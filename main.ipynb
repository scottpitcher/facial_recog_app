{
 "cells": [
  {
   "cell_type": "markdown",
   "id": "5571dd2e",
   "metadata": {},
   "source": [
    "# Facial Recognition App"
   ]
  },
  {
   "cell_type": "markdown",
   "id": "9f6b3cd2",
   "metadata": {},
   "source": [
    "Utilising siamese neural network for one shot recognition"
   ]
  },
  {
   "cell_type": "code",
   "execution_count": null,
   "id": "2058bea2",
   "metadata": {},
   "outputs": [],
   "source": [
    "# Import dependencies\n",
    "import cv2\n",
    "import os, re\n",
    "import random\n",
    "import numpy as np\n",
    "import matplotlib.pyplot as plt\n",
    "from PIL import Image\n",
    "import uuid\n",
    "import time\n",
    "\n",
    "from tensorflow.keras.models import Model\n",
    "from tensorflow.keras.layers import Layer, Conv2D, MaxPooling2D, Flatten, Dense, Input\n",
    "import tensorflow as tf\n",
    "import tensorflow_datasets as tfds\n",
    "from tensorflow.keras.metrics import Precision, Recall\n",
    "\n",
    "print(\"Packages imported successfully\")"
   ]
  },
  {
   "cell_type": "code",
   "execution_count": null,
   "id": "721ba6b6",
   "metadata": {},
   "outputs": [],
   "source": [
    "# Set up GPU Growth\n",
    "gpus = tf.config.list_physical_devices('GPU')\n",
    "\n",
    "for gpu in gpus:\n",
    "    details = tf.config.experimental.get_device_details(gpu)\n",
    "    print(f\"{gpu} ->\", details)\n",
    "    tf.config.experimental.set_memory_growth(gpu, True)\n",
    "    print(f\"GPU {gpu} memory growth set to True\")"
   ]
  },
  {
   "cell_type": "code",
   "execution_count": null,
   "id": "08a6833a",
   "metadata": {},
   "outputs": [],
   "source": [
    "# Create folder structures\n",
    "## Anchor - primary image; Verification - positive (1) or negative (0) images\n",
    "\n",
    "POS_PATH = os.path.join(\"data\", \"positive\")\n",
    "NEG_PATH = os.path.join(\"data\", \"negative\")\n",
    "ANCHOR_PATH = os.path.join(\"data\", \"anchor\")"
   ]
  },
  {
   "cell_type": "code",
   "execution_count": null,
   "id": "04e4ee94",
   "metadata": {},
   "outputs": [],
   "source": [
    "# Make directories if they don't exist\n",
    "os.makedirs(POS_PATH, exist_ok=True)\n",
    "os.makedirs(NEG_PATH, exist_ok=True)\n",
    "os.makedirs(ANCHOR_PATH, exist_ok=True) "
   ]
  },
  {
   "cell_type": "markdown",
   "id": "a33eb25f",
   "metadata": {},
   "source": [
    "## Collect Positive, Negative, and Anchor data\n",
    "Positive (webcam), Negative (lael faces in wild), and Anchor (webcam)"
   ]
  },
  {
   "cell_type": "code",
   "execution_count": null,
   "id": "21e0b99c",
   "metadata": {},
   "outputs": [],
   "source": [
    "# # Move lfw data to negative folder (data/negative)\n",
    "# lfw_base_path = \"/Users/scottpitcher/Downloads/lfw-deepfunneled\"\n",
    "# lfw_path = os.listdir(lfw_base_path)\n",
    "\n",
    "# # Look over all directories, then each file within\n",
    "# for directory in lfw_path:\n",
    "#     dir_path = os.path.join(lfw_base_path, directory)\n",
    "#     if \".DS_Store\" in directory:\n",
    "#         continue\n",
    "#     for file in os.listdir(dir_path):        \n",
    "#         EX_PATH = os.path.join(lfw_base_path, directory, file)\n",
    "#         NEW_PATH = os.path.join(NEG_PATH, file)\n",
    "#         os.replace(EX_PATH, NEW_PATH)\n",
    "    \n",
    "# print(\"Data transfer completed!\")"
   ]
  },
  {
   "cell_type": "code",
   "execution_count": null,
   "id": "66b76e76",
   "metadata": {},
   "outputs": [],
   "source": [
    "# # Check size of pictures (should be 250x250)\n",
    "# with Image.open(\"data/negative/Aaron_Eckhart_0001.jpg\") as img:\n",
    "#     width, height = img.size\n",
    "#     print(f\"Width: {width}px, Height: {height}px\")\n"
   ]
  },
  {
   "cell_type": "markdown",
   "id": "0d051387",
   "metadata": {},
   "source": [
    "### Collect positives/anchor classes"
   ]
  },
  {
   "cell_type": "code",
   "execution_count": null,
   "id": "338eb1ea",
   "metadata": {},
   "outputs": [],
   "source": [
    "# Our frame is 250x250, but when cropping, need to ensure faces are in frame\n",
    "# Below vars allow for facial centering in crop\n",
    "start_height = 400\n",
    "start_width = 600\n",
    "frame_size = 800\n",
    "\n",
    "cap = cv2.VideoCapture(1)\n",
    "\n",
    "while cap.isOpened:\n",
    "    ret, frame = cap.read()\n",
    "\n",
    "    # Cut frame down\n",
    "    frame = frame[start_height: start_height+frame_size,\n",
    "                  start_width:start_width+frame_size,\n",
    "                  :]\n",
    "    \n",
    "    # Collect anchors\n",
    "    if cv2.waitKey(1)& 0XFF == ord('a'):\n",
    "        # Create unique path/filename in Anchor folder\n",
    "        imgname = os.path.join(ANCHOR_PATH, '{}.jpg'.format(uuid.uuid1()))\n",
    "        # Save anchor image\n",
    "        cv2.imwrite(imgname, frame)\n",
    " \n",
    "\n",
    "    # Collect positives\n",
    "    if cv2.waitKey(1)& 0XFF == ord('p'):\n",
    "        # Create unique path/filename in Positive folder\n",
    "        imgname = os.path.join(POS_PATH, '{}.jpg'.format(uuid.uuid1()))\n",
    "        # Save positive image\n",
    "        cv2.imwrite(imgname, frame)\n",
    "\n",
    "    # Show image\n",
    "    cv2.imshow('Image Collection', frame)\n",
    "\n",
    "    # End video capture when 'q' pressed\n",
    "    if cv2.waitKey(1)& 0XFF == ord('q'):\n",
    "        break\n",
    "\n",
    "time.sleep(1)\n",
    "\n",
    "# Release cam\n",
    "cap.release()\n",
    "# Close image show frame\n",
    "cv2.destroyAllWindows()\n",
    "cv2.waitKey(1)"
   ]
  },
  {
   "cell_type": "markdown",
   "id": "2f699f94",
   "metadata": {},
   "source": [
    "## Load and Preprocess Images"
   ]
  },
  {
   "cell_type": "code",
   "execution_count": null,
   "id": "a56b8ca6",
   "metadata": {},
   "outputs": [],
   "source": [
    "# Obtain files from image directories\n",
    "# utilises data generator to loop through directory and take all jpg's (max. 300)\n",
    "anchor = tf.data.Dataset.list_files(ANCHOR_PATH+'/*.jpg').take(300)\n",
    "positive = tf.data.Dataset.list_files(POS_PATH+'/*.jpg').take(300)\n",
    "negative = tf.data.Dataset.list_files(NEG_PATH+'/*.jpg').take(300)"
   ]
  },
  {
   "cell_type": "markdown",
   "id": "e95638ac",
   "metadata": {},
   "source": [
    "#### Preprocessing"
   ]
  },
  {
   "cell_type": "code",
   "execution_count": null,
   "id": "3ed4df95",
   "metadata": {},
   "outputs": [],
   "source": [
    "def preprocess(file_path):\n",
    "    \"\"\"Function to preprocess images\"\"\"\n",
    "    # Get raw byte data\n",
    "    byte_img = tf.io.read_file(file_path)\n",
    "    \n",
    "    # Convert to image data\n",
    "    img = tf.io.decode_jpeg(byte_img)\n",
    "\n",
    "    # Resize for consistency\n",
    "    img = tf.image.resize (img,(100,100))\n",
    "\n",
    "    # Normalise image\n",
    "    img = img/ 255.0\n",
    "\n",
    "    return img"
   ]
  },
  {
   "cell_type": "code",
   "execution_count": null,
   "id": "275fb271",
   "metadata": {},
   "outputs": [],
   "source": [
    "# # Testing the function\n",
    "# img = preprocess(\"data/anchor/e3e7e9fa-2777-11f0-ab37-9e71dd1041e9.jpg\")\n",
    "\n",
    "# img.numpy().max()"
   ]
  },
  {
   "cell_type": "markdown",
   "id": "11972420",
   "metadata": {},
   "source": [
    "#### Create labelled dataset"
   ]
  },
  {
   "cell_type": "code",
   "execution_count": null,
   "id": "a24c4889",
   "metadata": {},
   "outputs": [],
   "source": [
    "# (anchor, positive) => 1,1,1,1,1\n",
    "# (anchor, negative) => 0,0,0,0,0\n",
    "\n",
    "positives = tf.data.Dataset.zip((anchor, positive, tf.data.Dataset.from_tensor_slices(tf.ones(len(anchor)))))\n",
    "negatives = tf.data.Dataset.zip((anchor, negative, tf.data.Dataset.from_tensor_slices(tf.zeros(len(anchor)))))\n",
    "\n",
    "data = positives.concatenate(negatives)"
   ]
  },
  {
   "cell_type": "code",
   "execution_count": null,
   "id": "658dc64c",
   "metadata": {},
   "outputs": [],
   "source": [
    "samples = data.as_numpy_iterator()"
   ]
  },
  {
   "cell_type": "markdown",
   "id": "3eadc8db",
   "metadata": {},
   "source": [
    "#### Build Train and Test partition"
   ]
  },
  {
   "cell_type": "code",
   "execution_count": null,
   "id": "05a9a881",
   "metadata": {},
   "outputs": [],
   "source": [
    "def preprocess_twin(input_img, validation_img, label):\n",
    "    return(preprocess(input_img), preprocess(validation_img), label)"
   ]
  },
  {
   "cell_type": "code",
   "execution_count": null,
   "id": "2a7aabe4",
   "metadata": {},
   "outputs": [],
   "source": [
    "# Dataloader pipeline\n",
    "## Run preprocess twin fn\n",
    "data = data.map(preprocess_twin)\n",
    "## Cache images\n",
    "data = data.cache()\n",
    "## Shuffle up data for randomness\n",
    "data = data.shuffle(buffer_size=256)"
   ]
  },
  {
   "cell_type": "code",
   "execution_count": null,
   "id": "366f6af5",
   "metadata": {},
   "outputs": [],
   "source": [
    "# Training partition\n",
    "## 70%\n",
    "train_data = data.take(round(len(data)*0.7))\n",
    "## Batches of 16\n",
    "train_data = train_data.batch(16)\n",
    "## Start preprocessing next batch\n",
    "train_data = train_data.prefetch(8)"
   ]
  },
  {
   "cell_type": "code",
   "execution_count": null,
   "id": "0ae32523",
   "metadata": {},
   "outputs": [],
   "source": [
    "# Testing partition\n",
    "## 30%\n",
    "test_data = data.skip(round(len(data)*0.7))\n",
    "test_data = test_data.take(round(len(data)*0.3))\n",
    "\n",
    "## Batches of 16\n",
    "test_data = test_data.batch(16)\n",
    "## Start preprocessing next batch\n",
    "test_data = test_data.prefetch(8)"
   ]
  },
  {
   "cell_type": "markdown",
   "id": "e5a0eaa8",
   "metadata": {},
   "source": [
    "## Model Engineering"
   ]
  },
  {
   "cell_type": "markdown",
   "id": "09dbae78",
   "metadata": {},
   "source": [
    "#### Embedding Layer"
   ]
  },
  {
   "cell_type": "code",
   "execution_count": null,
   "id": "ab34ad82",
   "metadata": {},
   "outputs": [],
   "source": [
    "def make_embedding():\n",
    "    # Define input layer\n",
    "    inp = Input(shape =(100,100,3), name = 'embed_input')\n",
    "    \n",
    "    # FIRST BLOCK\n",
    "    ## First conv layer (64 filters, 10x10 filter, ReLU act.)\n",
    "    c1 = Conv2D(64, (10,10), activation = 'relu')(inp)\n",
    "    ## First max pool layer\n",
    "    m1 = MaxPooling2D(64, (2,2), padding = 'same')(c1)\n",
    "\n",
    "\n",
    "    # SECOND BLOCK\n",
    "    ## Second conv layer (128 filters, 7x7 filter, ReLU act.)\n",
    "    c2 = Conv2D(128, (7,7), activation = 'relu')(m1)\n",
    "    ## Second max pool layer\n",
    "    m2 = MaxPooling2D(64, (2,2), padding = 'same')(c2)\n",
    "\n",
    "\n",
    "    # THIRD BLOCK\n",
    "    ## Third conv layer (128 filters, 4x4 filter, ReLU act.)\n",
    "    c3 = Conv2D(128, (4,4), activation = 'relu')(m2)\n",
    "    ## Third max pool layer\n",
    "    m3 = MaxPooling2D(64, (2,2), padding = 'same')(c3)\n",
    "\n",
    "\n",
    "    # FOURTH, FINAL BLOCK\n",
    "    ## Fourth, Final conv layer (256 filters, 4x4 filter, ReLU act.)\n",
    "    c4 = Conv2D(256, (4,4), activation = 'relu')(m3)\n",
    "    ## Fully connected layer\n",
    "    f1 = Flatten()(c4)\n",
    "    ## Dense layer (sigmoid act. fn.)\n",
    "    d1 = Dense(4096, activation = 'sigmoid')(f1)\n",
    "     \n",
    "     \n",
    "    return Model(inputs=inp, outputs=d1, name='embedding')"
   ]
  },
  {
   "cell_type": "code",
   "execution_count": null,
   "id": "5ec5b895",
   "metadata": {},
   "outputs": [],
   "source": [
    "embedding = make_embedding()\n",
    "embedding.summary()"
   ]
  },
  {
   "cell_type": "code",
   "execution_count": null,
   "id": "4076966a",
   "metadata": {},
   "outputs": [],
   "source": [
    "# Siamese L1 distance class\n",
    "class L1Dist(Layer):\n",
    "    def __init__(self, **kwargs):\n",
    "        super().__init__()\n",
    "    \n",
    "    # Distance calc\n",
    "    def call(self, input_embedding, validation_embedding):\n",
    "        return tf.math.abs(input_embedding - validation_embedding)\n"
   ]
  },
  {
   "cell_type": "markdown",
   "id": "f87ed0af",
   "metadata": {},
   "source": [
    "#### Siamese Model"
   ]
  },
  {
   "cell_type": "code",
   "execution_count": null,
   "id": "42f289b9",
   "metadata": {},
   "outputs": [],
   "source": [
    "# implementation of the keras CNN embeddings\n",
    "\n",
    "def make_siamese_model():\n",
    "    # Anchor input\n",
    "    input_image = Input(name = 'anchor_img', shape = (100,100,3))\n",
    "    \n",
    "    # Validation input\n",
    "    validation_image = Input(name = 'validation_img', shape = (100,100,3))\n",
    "    \n",
    "    # Embed images\n",
    "    ## Embed anchor\n",
    "    input_embd = embedding(input_image)\n",
    "\n",
    "    ## Embed val\n",
    "    val_embd = embedding(validation_image)\n",
    "\n",
    "    # Run siamese distance\n",
    "    siamese_layer = L1Dist()\n",
    "    siamese_layer._name = \"distance\"\n",
    "    distances = siamese_layer(input_embd, val_embd)\n",
    "\n",
    "    # Classification Layer\n",
    "    classifier = Dense(1, activation = 'sigmoid')(distances)\n",
    "\n",
    "    return Model(inputs= [input_image, validation_image], outputs = classifier, name = 'SiameseNetwork')\n",
    "\n",
    "siamese_model = make_siamese_model()\n",
    "siamese_model.summary()"
   ]
  },
  {
   "cell_type": "markdown",
   "id": "0f1267d0",
   "metadata": {},
   "source": [
    "## Model Training"
   ]
  },
  {
   "cell_type": "code",
   "execution_count": null,
   "id": "a94091b3",
   "metadata": {},
   "outputs": [],
   "source": [
    "## Set up loss fn\n",
    "binary_cross_loss = tf.losses.BinaryCrossentropy()\n",
    "\n",
    "## Set up optimizer\n",
    "opt = tf.keras.optimizers.Adam(1e-4)"
   ]
  },
  {
   "cell_type": "code",
   "execution_count": null,
   "id": "c05b6fa1",
   "metadata": {},
   "outputs": [],
   "source": [
    "## Checkpoints established\n",
    "checkpoint_dir = './training_checkpoints'\n",
    "os.makedirs(checkpoint_dir, exist_ok=True) \n",
    "checkpoint_prefix = os.path.join(checkpoint_dir, 'ckpt')\n",
    "checkpoint = tf.train.Checkpoint(opt= opt, siamese_model = siamese_model)"
   ]
  },
  {
   "cell_type": "code",
   "execution_count": null,
   "id": "c41b1215",
   "metadata": {},
   "outputs": [],
   "source": [
    "## Train step function\n",
    "@tf.function\n",
    "def train_step(batch):\n",
    "\n",
    "    # Utilise GradientTape to collect gradient/derivative information\n",
    "    with tf.GradientTape() as tape:\n",
    "        # Get anchor and positive/negative image, and target\n",
    "        X,y = (batch[:2], batch[2])\n",
    "        \n",
    "        # Forward pass\n",
    "        yhat = siamese_model(X, training = True)\n",
    "\n",
    "        # Calculate loss\n",
    "        loss = binary_cross_loss(y,yhat)\n",
    "    \n",
    "    print(loss)\n",
    "    \n",
    "    # Calculate gradient for backprop\n",
    "    grad = tape.gradient(loss, siamese_model.trainable_variables)\n",
    "\n",
    "    # Calc updated weights and apply to model\n",
    "    opt.apply_gradients(zip(grad, siamese_model.trainable_variables))\n",
    "\n",
    "\n",
    "    return loss"
   ]
  },
  {
   "cell_type": "code",
   "execution_count": null,
   "id": "bcc77bb7",
   "metadata": {},
   "outputs": [],
   "source": [
    "## Build Training Loop\n",
    "def train(data, START, EPOCHS):\n",
    "    # Loop over epochs\n",
    "    for epoch in range(START, EPOCHS+1):\n",
    "        print('\\n Epoch {}/{}'.format(epoch, EPOCHS))\n",
    "        progbar = tf.keras.utils.Progbar(len(data))\n",
    "        \n",
    "        # Loop through batches\n",
    "        for idx, batch in enumerate(data):\n",
    "            train_step(batch)\n",
    "            progbar.update(idx+1)\n",
    "        \n",
    "        # Save training checkpoint\n",
    "        if epoch % 10 ==0:\n",
    "            checkpoint.save(file_prefix = checkpoint_prefix)\n"
   ]
  },
  {
   "cell_type": "code",
   "execution_count": null,
   "id": "87b42f34",
   "metadata": {},
   "outputs": [],
   "source": [
    "## Training\n",
    "EPOCHS = 50\n",
    "\n",
    "ckpt_dir = \"./training_checkpoints\"\n",
    "ckpt_meta = os.path.join(ckpt_dir, \"checkpoint\")\n",
    "save_interval   = 10\n",
    "\n",
    "latest = None\n",
    "# Check for checkpoint\n",
    "if os.path.exists(os.path.join(ckpt_dir, \"checkpoint\")):\n",
    "    latest = tf.train.latest_checkpoint(ckpt_dir)\n",
    "if latest:\n",
    "    # latest is something like \".../ckpt-3\"\n",
    "    ckpt_idx    = int(latest.split(\"-\")[-1])        # → 3\n",
    "    last_epoch  = ckpt_idx * save_interval         # → 3*10 = 30\n",
    "    start_epoch = last_epoch + 1                   # → 31\n",
    "    print(f\"Restoring from {latest}; resuming at epoch {start_epoch}\")\n",
    "    checkpoint.restore(latest).expect_partial()\n",
    "else:\n",
    "    start_epoch = 1\n",
    "    print(\"No checkpoint found; starting from epoch 1\")\n",
    "\n",
    "with tf.device('/GPU:0'):\n",
    "    train(train_data,start_epoch, EPOCHS)"
   ]
  },
  {
   "cell_type": "code",
   "execution_count": null,
   "id": "27f9e361",
   "metadata": {},
   "outputs": [],
   "source": [
    "# Save weights\n",
    "siamese_model.save('./models/siamese_model.keras')"
   ]
  },
  {
   "cell_type": "markdown",
   "id": "672eaeb8",
   "metadata": {},
   "source": [
    "## Model Evaluation"
   ]
  },
  {
   "cell_type": "code",
   "execution_count": null,
   "id": "a42e893c",
   "metadata": {},
   "outputs": [],
   "source": [
    "# Read in model\n",
    "filepath= './models/siamese_model.keras'\n",
    "custom_objects ={\n",
    "        'L1Dist':L1Dist,\n",
    "        'BinaryCrossentropy':tf.losses.BinaryCrossentropy,\n",
    "        }\n",
    "\n",
    "# Reload model \n",
    "siamese_model = tf.keras.models.load_model(\n",
    "    filepath=filepath,\n",
    "    custom_objects = custom_objects\n",
    "    )\n",
    "\n",
    "if siamese_model:\n",
    "    print(\"Model loaded successfully\")"
   ]
  },
  {
   "cell_type": "code",
   "execution_count": 147,
   "id": "17c0cb94",
   "metadata": {},
   "outputs": [],
   "source": [
    "def batch_eval():\n",
    "    # Get batch of test data\n",
    "    test_input, test_val, y_true = test_data.as_numpy_iterator().next()\n",
    "    # Make predictions\n",
    "    predictions = siamese_model.predict([test_input, test_val])\n",
    "    print(\"Predictions:\\n\", [1 if prediction > 0.5 else 0 for prediction in predictions])\n",
    "    print(\"Actual:\\n\", [int(yhat) for yhat in y_true])\n",
    "    \n",
    "    # Create recall metric object\n",
    "    m = Recall()\n",
    "    m.update_state(y_true, predictions)\n",
    "    print(\"Recall:\",m.result().numpy())\n",
    "\n",
    "    # Create precision metric object\n",
    "    p = Precision()\n",
    "    p.update_state(y_true, predictions)\n",
    "    print(\"Precision:\",p.result().numpy())"
   ]
  },
  {
   "cell_type": "code",
   "execution_count": 151,
   "id": "4a2c1393",
   "metadata": {},
   "outputs": [
    {
     "name": "stdout",
     "output_type": "stream",
     "text": [
      "\u001b[1m1/1\u001b[0m \u001b[32m━━━━━━━━━━━━━━━━━━━━\u001b[0m\u001b[37m\u001b[0m \u001b[1m0s\u001b[0m 120ms/step\n",
      "Predictions:\n",
      " [0, 0, 0, 0, 1, 0, 0, 0, 0, 0, 0, 0, 0, 0, 1, 0]\n",
      "Actual:\n",
      " [0, 0, 0, 0, 1, 0, 0, 0, 1, 0, 0, 0, 0, 0, 1, 0]\n",
      "Recall: 0.6666667\n",
      "Precision: 1.0\n"
     ]
    }
   ],
   "source": [
    "batch_eval()"
   ]
  },
  {
   "cell_type": "markdown",
   "id": "5f46ff1d",
   "metadata": {},
   "source": [
    "### Which pixels are driving the decision?"
   ]
  },
  {
   "cell_type": "code",
   "execution_count": 153,
   "id": "4298a335",
   "metadata": {},
   "outputs": [
    {
     "name": "stdout",
     "output_type": "stream",
     "text": [
      "Using idx=6, true=1.0, pred=0.57\n"
     ]
    },
    {
     "data": {
      "image/png": "[encoded data removed]",
      "text/plain": [
       "<Figure size 500x500 with 1 Axes>"
      ]
     },
     "metadata": {},
     "output_type": "display_data"
    }
   ],
   "source": [
    "# Grab one eval sample (batched)\n",
    "# test_input, test_val, y_true = test_data.as_numpy_iterator().next()\n",
    "\n",
    "# pick a confident positive if possible\n",
    "pos = np.where(y_true==1)[0]\n",
    "idx = int(pos[0]) if len(pos)>0 else 0\n",
    "anchor     = tf.convert_to_tensor(test_input[idx:idx+1], dtype=tf.float32)\n",
    "validation = tf.convert_to_tensor(test_val  [idx:idx+1], dtype=tf.float32)\n",
    "pred = siamese_model([anchor, validation])[0,0]\n",
    "print(f\"Using idx={idx}, true={y_true[idx]}, pred={pred:.2f}\")\n",
    "\n",
    "# Compute gradient of score w.r.t. the anchor image\n",
    "with tf.GradientTape() as tape:\n",
    "    tape.watch(anchor)\n",
    "    score = siamese_model([anchor, validation])[0,0]\n",
    "grads = tape.gradient(score, anchor)[0]             # shape (100,100,3)\n",
    "\n",
    "# Convert to a single‐channel saliency map\n",
    "saliency = tf.reduce_max(tf.abs(grads), axis=-1)    # (100,100)\n",
    "saliency = (saliency - tf.reduce_min(saliency)) / (tf.reduce_max(saliency) - tf.reduce_min(saliency) + 1e-8)\n",
    "saliency = saliency.numpy()\n",
    "\n",
    "# Colorize & overlay\n",
    "heat = (saliency*255).astype(np.uint8)\n",
    "heat = cv2.applyColorMap(heat, cv2.COLORMAP_JET)\n",
    "heat = cv2.cvtColor(heat, cv2.COLOR_BGR2RGB)\n",
    "\n",
    "orig = (anchor[0].numpy()*255).astype(np.uint8)\n",
    "overlay = cv2.addWeighted(orig, 0.6, heat, 0.4, 0)\n",
    "\n",
    "# Display\n",
    "plt.figure(figsize=(5,5))\n",
    "plt.imshow(overlay)\n",
    "plt.axis('off')\n",
    "plt.title(f\"Saliency map, pred: {pred:.2f}, true: {y_true[idx]}\")\n",
    "plt.show()\n"
   ]
  },
  {
   "cell_type": "code",
   "execution_count": null,
   "id": "e91392bf",
   "metadata": {},
   "outputs": [],
   "source": [
    "import cv2\n",
    "import numpy as np\n",
    "import matplotlib.pyplot as plt\n",
    "\n",
    "# 1) Grab one test pair\n",
    "test_input, test_val, y_true = test_data.as_numpy_iterator().next()\n",
    "idx = int(np.where(y_true==1)[0][0]) if np.any(y_true==1) else 0\n",
    "orig_anchor = (test_input[idx] * 255).astype(np.uint8)      # H×W×3 uint8\n",
    "validation  = test_val  [idx:idx+1].astype(np.float32)      # (1,100,100,3)\n",
    "\n",
    "# 2) Detect face bounding box\n",
    "cascade = cv2.CascadeClassifier(\n",
    "    cv2.data.haarcascades + 'haarcascade_frontalface_default.xml'\n",
    ")\n",
    "gray = cv2.cvtColor(orig_anchor, cv2.COLOR_RGB2GRAY)        # convert to grayscale\n",
    "faces = cascade.detectMultiScale(gray, 1.1, 4)              # detect faces\n",
    "\n",
    "if len(faces)==0:\n",
    "    raise RuntimeError(\"No face detected in anchor image\")\n",
    "(x,y,w,h) = faces[0]                                         # take the first face\n",
    "\n",
    "# 3) Crop to face and resize back to 100×100\n",
    "face_crop = orig_anchor[y:y+h, x:x+w]                        # crop ROI\n",
    "face_resized = cv2.resize(face_crop, (100,100))              # to model input size\n",
    "\n",
    "# 4) Prepare batches for prediction\n",
    "orig_batch = orig_anchor[np.newaxis, ...].astype(np.float32)/255.0     # (1,100,100,3)\n",
    "face_batch = face_resized[np.newaxis, ...].astype(np.float32)/255.0    # (1,100,100,3)\n",
    "\n",
    "# 5) Compute both scores\n",
    "score_orig = siamese_model.predict([orig_batch, validation])[0,0]\n",
    "score_face = siamese_model.predict([face_batch, validation])[0,0]\n",
    "\n",
    "print(f\"True label = {y_true[idx]:.0f}\")\n",
    "print(f\"Score with ORIGINAL anchor : {score_orig:.3f}\")\n",
    "print(f\"Score with FACE-ONLY anchor: {score_face:.3f}\")\n",
    "\n",
    "# 6) Visualize\n",
    "fig, axes = plt.subplots(1,2, figsize=(8,4))\n",
    "axes[0].imshow(orig_anchor);       axes[0].set_title(\"Original Anchor\") \n",
    "axes[1].imshow(face_resized);      axes[1].set_title(\"Face-Only Anchor\")\n",
    "for ax in axes:\n",
    "    ax.axis('off')\n",
    "plt.tight_layout()\n",
    "plt.show()\n"
   ]
  },
  {
   "cell_type": "markdown",
   "id": "c9fa7f2d",
   "metadata": {},
   "source": [
    "#### Visualise results"
   ]
  },
  {
   "cell_type": "code",
   "execution_count": null,
   "id": "60e05664",
   "metadata": {},
   "outputs": [],
   "source": [
    "image_index = 7\n",
    "# Set up figure\n",
    "plt.figure(figsize= (10,8))\n",
    "\n",
    "# First subplot\n",
    "plt.subplot(1,2,1)\n",
    "plt.title(\"Anchor Image\")\n",
    "plt.imshow(test_input[image_index])\n",
    "\n",
    "# Second subplot\n",
    "plt.subplot(1,2,2)\n",
    "plt.title(f\"Test Image: {'Positive' if y_true[image_index] == 1.0 else 'Negative'}\")\n",
    "plt.imshow(test_val[image_index])\n",
    "\n",
    "# Show image\n",
    "plt.show()"
   ]
  },
  {
   "cell_type": "markdown",
   "id": "5b761246",
   "metadata": {},
   "source": [
    "## Save model"
   ]
  },
  {
   "cell_type": "markdown",
   "id": "373416f3",
   "metadata": {},
   "source": [
    "## Real time testing"
   ]
  },
  {
   "cell_type": "code",
   "execution_count": null,
   "id": "7cfabd14",
   "metadata": {},
   "outputs": [],
   "source": [
    "# Verification Function\n",
    "def verify(model = siamese_model, ver_thresh = 0.6, det_thresh = 0.5):\n",
    "    results = []\n",
    "    # Loop through each file in the verification folder\n",
    "    for image in os.listdir(os.path.join('application_data', 'verification_images')):\n",
    "        # Preprocess live image\n",
    "        input_img = preprocess(os.path.join('application_data','input_image', 'input_image.jpg'))\n",
    "        # preprocess val image\n",
    "        validation_img = preprocess(os.path.join('application_data','verification_images', image))\n",
    "        \n",
    "        # Predict if match\n",
    "        prediction = model.predict(list(np.expand_dims([input_img, validation_img], axis = 1)))\n",
    "        \n",
    "        # Append results\n",
    "        results.append(prediction)\n",
    "    \n",
    "    ## results = [1 if result > det_thresh else 0 for result in results]\n",
    "    detection = np.sum(np.array(results)>det_thresh)\n",
    "\n",
    "    results_avg  = detection/len(results)\n",
    "    print(\"Match proportion:\", results_avg)\n",
    "\n",
    "    # Utilise verification threshold to determine if match or not\n",
    "    verified = 'Positive' if results_avg > ver_thresh else 'Negative'\n",
    "    \n",
    "    return verified\n",
    "\n",
    "    # Detection Threshold: Metric above which a prediction is considered positive\n",
    "    # Verification Threshold: Proportion of positive predictions /total positive samples"
   ]
  },
  {
   "cell_type": "code",
   "execution_count": null,
   "id": "237799f2",
   "metadata": {},
   "outputs": [],
   "source": [
    "## Real time verification\n",
    "verify()"
   ]
  },
  {
   "cell_type": "markdown",
   "id": "8b1104c5",
   "metadata": {},
   "source": [
    "## OpenCV Real Time Verification"
   ]
  },
  {
   "cell_type": "code",
   "execution_count": null,
   "id": "e9917118",
   "metadata": {},
   "outputs": [],
   "source": [
    "# Reusing earlier code to resize frame\n",
    "start_height = 400\n",
    "start_width =  600\n",
    "frame_size =   800\n",
    "\n",
    "cap = cv2.VideoCapture(1)\n",
    "cv2.namedWindow('Verification', cv2.WINDOW_NORMAL)\n",
    "cv2.startWindowThread()\n",
    "\n",
    "while cap.isOpened():\n",
    "    ret, frame = cap.read()\n",
    "    # Cut frame down\n",
    "    frame = frame[start_height: start_height+frame_size,\n",
    "                  start_width:start_width+frame_size,\n",
    "                  :]\n",
    "\n",
    "    cv2.imshow('Verification', frame)\n",
    "\n",
    "    key = cv2.waitKey(10) & 0xFF\n",
    "    # Verification Trigger\n",
    "    if key == ord('v'):\n",
    "        # Save input image to input_image folder (override anything there)\n",
    "        cv2.imwrite(os.path.join('application_data','input_image', 'input_image.jpg'), frame)\n",
    "        verified = verify()\n",
    "        print(\"Result:\",verified)\n",
    "\n",
    "    if key == ord('q'):\n",
    "        break\n",
    "\n",
    "cap.release()\n",
    "cv2.destroyWindow('Verification')\n",
    "cv2.waitKey(1)"
   ]
  },
  {
   "cell_type": "code",
   "execution_count": null,
   "id": "0e9f6835",
   "metadata": {},
   "outputs": [],
   "source": []
  }
 ],
 "metadata": {
  "kernelspec": {
   "display_name": ".venv",
   "language": "python",
   "name": "python3"
  },
  "language_info": {
   "codemirror_mode": {
    "name": "ipython",
    "version": 3
   },
   "file_extension": ".py",
   "mimetype": "text/x-python",
   "name": "python",
   "nbconvert_exporter": "python",
   "pygments_lexer": "ipython3",
   "version": "3.10.16"
  }
 },
 "nbformat": 4,
 "nbformat_minor": 5
}
